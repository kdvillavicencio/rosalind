{
 "cells": [
  {
   "cell_type": "markdown",
   "metadata": {},
   "source": [
    "# Enumrerating Oriented Gene Orderings\n",
    "[Reference](https://rosalind.info/problems/sign/)\n",
    "\n",
    "## Problem\n",
    "A signed permutation of length n is some ordering of the positive integers {1,2,…,n} in which each integer is then provided with either a positive or negative sign (for the sake of simplicity, we omit the positive sign). For example, π=(5,−3,−2,1,4) is a signed permutation of length 5\n",
    "\n",
    "Given: A positive integer n≤6\n",
    "Return: The total number of signed permutations of length n, followed by a list of all such permutations (you may list the signed permutations in any order).\n",
    "\n",
    "## Sample Dataset\n",
    "> 2\n",
    "\n",
    "## Sample Output\n",
    "'''\n",
    "8\n",
    "-1 -2\n",
    "-1 2\n",
    "1 -2\n",
    "1 2\n",
    "-2 -1\n",
    "-2 1\n",
    "2 -1\n",
    "2 1\n",
    "'''"
   ]
  },
  {
   "cell_type": "markdown",
   "metadata": {},
   "source": [
    "## Solution\n",
    "- taking the negative set of numbers doubles the available digits for permutation\n",
    "- however, we still take digits equal to `n`\n",
    "- essentially, `(2n)P(n)`"
   ]
  },
  {
   "cell_type": "code",
   "execution_count": 3,
   "metadata": {},
   "outputs": [
    {
     "name": "stdout",
     "output_type": "stream",
     "text": [
      "120\n"
     ]
    },
    {
     "ename": "AttributeError",
     "evalue": "'str' object has no attribute 'head'",
     "output_type": "error",
     "traceback": [
      "\u001b[1;31m---------------------------------------------------------------------------\u001b[0m",
      "\u001b[1;31mAttributeError\u001b[0m                            Traceback (most recent call last)",
      "\u001b[1;32m<ipython-input-3-4453c0398db7>\u001b[0m in \u001b[0;36m<module>\u001b[1;34m\u001b[0m\n\u001b[0;32m     28\u001b[0m \u001b[0mprint\u001b[0m\u001b[1;33m(\u001b[0m\u001b[0mfactorial\u001b[0m\u001b[1;33m(\u001b[0m\u001b[0minput\u001b[0m\u001b[1;33m)\u001b[0m\u001b[1;33m)\u001b[0m\u001b[1;33m\u001b[0m\u001b[1;33m\u001b[0m\u001b[0m\n\u001b[0;32m     29\u001b[0m \u001b[1;32mfor\u001b[0m \u001b[0mitem\u001b[0m \u001b[1;32min\u001b[0m \u001b[0mperms\u001b[0m\u001b[1;33m:\u001b[0m\u001b[1;33m\u001b[0m\u001b[1;33m\u001b[0m\u001b[0m\n\u001b[1;32m---> 30\u001b[1;33m     \u001b[0mprint\u001b[0m\u001b[1;33m(\u001b[0m\u001b[0mitem\u001b[0m\u001b[1;33m.\u001b[0m\u001b[0mhead\u001b[0m\u001b[1;33m)\u001b[0m\u001b[1;33m\u001b[0m\u001b[1;33m\u001b[0m\u001b[0m\n\u001b[0m\u001b[0;32m     31\u001b[0m \u001b[1;33m\u001b[0m\u001b[0m\n",
      "\u001b[1;31mAttributeError\u001b[0m: 'str' object has no attribute 'head'"
     ]
    }
   ],
   "source": [
    "\n",
    "from math import factorial\n",
    "\n",
    "input = 5\n",
    "ints = [*range(1,input+1)]\n",
    "perms = []\n",
    "\n",
    "# solved by using .copy() method, previous problem on original list being overwritten\n",
    "\n",
    "def perm(intList):\n",
    "    ref_intList = intList.copy()\n",
    "    outList = []\n",
    "    if len(ref_intList) == 2:\n",
    "        space = ' '\n",
    "        outList.append(space.join(str(i) for i in ref_intList))\n",
    "        outList.append(space.join(str(i) for i in ref_intList[::-1]))\n",
    "        return outList\n",
    "    else:\n",
    "        for i in ref_intList:\n",
    "            sub_intList = ref_intList.copy()\n",
    "            sub_intList.remove(i)\n",
    "            sub_permList = perm(sub_intList)\n",
    "            for j in sub_permList:\n",
    "                outList.append(str(i)+' '+j)\n",
    "        return outList\n",
    "\n",
    "perms = perm(ints)\n",
    "\n",
    "print(factorial(input))\n",
    "for item in perms:\n",
    "    print(item)\n",
    "\n"
   ]
  }
 ],
 "metadata": {
  "kernelspec": {
   "display_name": "Python 3",
   "language": "python",
   "name": "python3"
  },
  "language_info": {
   "codemirror_mode": {
    "name": "ipython",
    "version": 3
   },
   "file_extension": ".py",
   "mimetype": "text/x-python",
   "name": "python",
   "nbconvert_exporter": "python",
   "pygments_lexer": "ipython3",
   "version": "3.9.6"
  },
  "orig_nbformat": 4,
  "vscode": {
   "interpreter": {
    "hash": "7631773df7a20f76ce0129852d6286a048d5c426a0098a673052d93f81596669"
   }
  }
 },
 "nbformat": 4,
 "nbformat_minor": 2
}
