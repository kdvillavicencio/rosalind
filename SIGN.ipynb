{
 "cells": [
  {
   "cell_type": "markdown",
   "metadata": {},
   "source": [
    "# Enumrerating Oriented Gene Orderings\n",
    "[Reference](https://rosalind.info/problems/sign/)\n",
    "\n",
    "## Problem\n",
    "A signed permutation of length n is some ordering of the positive integers {1,2,…,n} in which each integer is then provided with either a positive or negative sign (for the sake of simplicity, we omit the positive sign). For example, π=(5,−3,−2,1,4) is a signed permutation of length 5\n",
    "\n",
    "Given: A positive integer n≤6\n",
    "Return: The total number of signed permutations of length n, followed by a list of all such permutations (you may list the signed permutations in any order).\n",
    "\n",
    "## Sample Dataset\n",
    "> 2\n",
    "\n",
    "## Sample Output\n",
    "'''\n",
    "8\n",
    "-1 -2\n",
    "-1 2\n",
    "1 -2\n",
    "1 2\n",
    "-2 -1\n",
    "-2 1\n",
    "2 -1\n",
    "2 1\n",
    "'''"
   ]
  },
  {
   "cell_type": "markdown",
   "metadata": {},
   "source": [
    "## Solution\n",
    "- taking the negative set of numbers doubles the available digits for permutation\n",
    "- however, we still take digits equal to `n`\n",
    "- essentially, `(2n)P(n)`"
   ]
  },
  {
   "cell_type": "code",
   "execution_count": null,
   "metadata": {},
   "outputs": [],
   "source": [
    "\n",
    "from math import factorial\n",
    "\n",
    "input = 5\n",
    "ints = [*range(1,input+1)]\n",
    "perms = []\n",
    "\n",
    "# solved by using .copy() method, previous problem on original list being overwritten\n",
    "\n",
    "def perm(intList):\n",
    "    ref_intList = intList.copy()\n",
    "    outList = []\n",
    "    if len(ref_intList) == 2:\n",
    "        space = ' '\n",
    "        outList.append(space.join(str(i) for i in ref_intList))\n",
    "        outList.append(space.join(str(i) for i in ref_intList[::-1]))\n",
    "        return outList\n",
    "    else:\n",
    "        for i in ref_intList:\n",
    "            sub_intList = ref_intList.copy()\n",
    "            sub_intList.remove(i)\n",
    "            sub_permList = perm(sub_intList)\n",
    "            for j in sub_permList:\n",
    "                outList.append(str(i)+' '+j)\n",
    "        return outList\n",
    "\n",
    "perms = perm(ints)\n",
    "\n",
    "print(factorial(input))\n",
    "for item in perms:\n",
    "    print(item)\n",
    "\n"
   ]
  }
 ],
 "metadata": {
  "language_info": {
   "name": "python"
  },
  "orig_nbformat": 4
 },
 "nbformat": 4,
 "nbformat_minor": 2
}
